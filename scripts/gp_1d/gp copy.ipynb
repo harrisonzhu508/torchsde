{
 "cells": [
  {
   "cell_type": "code",
   "execution_count": 1,
   "metadata": {},
   "outputs": [],
   "source": [
    "%load_ext autoreload\n",
    "%autoreload 2"
   ]
  },
  {
   "cell_type": "code",
   "execution_count": 48,
   "metadata": {},
   "outputs": [],
   "source": [
    "import argparse\n",
    "import logging\n",
    "import math\n",
    "import os\n",
    "import random\n",
    "from collections import namedtuple\n",
    "from typing import Optional, Union\n",
    "from gpytorch.kernels import RBFKernel, MaternKernel\n",
    "from multiscale_sde.util import softplus_inverse\n",
    "\n",
    "os.environ[\"CUDA_VISIBLE_DEVICES\"] = \"1\"\n",
    "\n",
    "import matplotlib.pyplot as plt\n",
    "import numpy as np\n",
    "import torch\n",
    "import tqdm\n",
    "from torch import distributions, nn, optim\n",
    "\n",
    "import torchsde\n",
    "device = torch.device('cuda' if torch.cuda.is_available() else 'cpu')\n",
    "\n",
    "# w/ underscore -> numpy; w/o underscore -> torch.\n",
    "Data = namedtuple('Data', ['ts_', 'ts_ext_', 'ts_vis_', 'ts', 'ts_ext', 'ts_vis', 'ys', 'ys_'])\n",
    "import sys \n",
    "sys.path.append(\"../..\")\n",
    "lengthscale = 0.2\n",
    "def make_irregular_gp_data():\n",
    "    k = MaternKernel(nu=0.5)\n",
    "    k.lengthscale = lengthscale\n",
    "    ts = np.concatenate(\n",
    "        [\n",
    "            np.random.uniform(low=0.1, high=0.5, size=5),\n",
    "            np.random.uniform(low=1.5, high=1.9, size=5)\n",
    "        ],\n",
    "        axis=0\n",
    "    )\n",
    "    ts_ = np.sort(ts)\n",
    "    ts_ext_ = np.array([0.] + list(ts_) + [2.0])\n",
    "    ts_vis_ = np.linspace(0., 2.0, 300)\n",
    "    K = k(torch.Tensor(ts_)).evaluate().double() + (1e-6*torch.eye(ts_.shape[0])).double()\n",
    "    L = torch.linalg.cholesky(K)\n",
    "    ys_ = L.detach().cpu().numpy() @ np.random.normal(size=(K.shape[0], 1)).astype(np.float64)\n",
    "\n",
    "    ts = torch.tensor(ts_).float()\n",
    "    ts_ext = torch.tensor(ts_ext_).float()\n",
    "    ts_vis = torch.tensor(ts_vis_).float()\n",
    "    ys = torch.tensor(ys_).float().to(device)\n",
    "    return Data(ts_, ts_ext_, ts_vis_, ts, ts_ext, ts_vis, ys, ys_)\n",
    "\n",
    "def make_data(data_name=\"irregular_gp\"):\n",
    "    data_constructor = {\n",
    "        'irregular_gp': make_irregular_gp_data\n",
    "    }[data_name]\n",
    "    return data_constructor()"
   ]
  },
  {
   "cell_type": "code",
   "execution_count": 3,
   "metadata": {},
   "outputs": [],
   "source": [
    "from multiscale_sde.util import softplus_inverse\n",
    "from multiscale_sde.gp import MaternSDEKernel"
   ]
  },
  {
   "cell_type": "code",
   "execution_count": 4,
   "metadata": {},
   "outputs": [],
   "source": [
    "def manual_seed(seed: int):\n",
    "    random.seed(seed)\n",
    "    np.random.seed(seed)\n",
    "    torch.manual_seed(seed)\n",
    "manual_seed(0)"
   ]
  },
  {
   "cell_type": "code",
   "execution_count": 5,
   "metadata": {},
   "outputs": [],
   "source": [
    "# Dataset.\n",
    "ts_, ts_ext_, ts_vis_, ts, ts_ext, ts_vis, ys, ys_ = make_data()\n",
    "# Plotting parameters.\n",
    "vis_batch_size = 1024\n",
    "ylims = (-3, 3)\n",
    "alphas = [0.55]\n",
    "# percentiles = [0.999, 0.99, 0.9, 0.8, 0.7, 0.6, 0.5, 0.4, 0.3, 0.2, 0.1]\n",
    "percentiles = [0.95]\n",
    "color = \"blue\""
   ]
  },
  {
   "cell_type": "code",
   "execution_count": 6,
   "metadata": {},
   "outputs": [],
   "source": [
    "k = MaternSDEKernel(smoothness=1.5)"
   ]
  },
  {
   "cell_type": "code",
   "execution_count": 7,
   "metadata": {},
   "outputs": [
    {
     "data": {
      "text/plain": [
       "(torch.Size([10]), torch.Size([10, 1]))"
      ]
     },
     "execution_count": 7,
     "metadata": {},
     "output_type": "execute_result"
    }
   ],
   "source": [
    "ts.shape, ys.shape"
   ]
  },
  {
   "cell_type": "code",
   "execution_count": 8,
   "metadata": {},
   "outputs": [
    {
     "data": {
      "text/plain": [
       "torch.Size([10, 2])"
      ]
     },
     "execution_count": 8,
     "metadata": {},
     "output_type": "execute_result"
    }
   ],
   "source": [
    "k.g(ts, ys).shape"
   ]
  },
  {
   "cell_type": "code",
   "execution_count": 9,
   "metadata": {},
   "outputs": [],
   "source": [
    "method = \"euler\"\n",
    "dt = 1e-3\n",
    "adaptive = False\n",
    "rtol = 1e-3\n",
    "atol = 1e-3\n",
    "adjoint = False\n",
    "sdeint_fn = torchsde.sdeint_adjoint if adjoint else torchsde.sdeint\n",
    "kl_anneal_iters = 100\n",
    "dpi = 300\n",
    "batch_size=512\n",
    "train_iters=5000\n",
    "pause_iters=50\n",
    "scale=0.01"
   ]
  },
  {
   "cell_type": "code",
   "execution_count": 10,
   "metadata": {},
   "outputs": [],
   "source": [
    "vis_idx = np.random.permutation(vis_batch_size)\n",
    "# From https://colorbrewer2.org/.\n",
    "if color == \"blue\":\n",
    "    sample_colors = ('#8c96c6', '#8c6bb1', '#810f7c')\n",
    "    fill_color = '#9ebcda'\n",
    "    mean_color = '#4d004b'\n",
    "    num_samples = len(sample_colors)\n",
    "else:\n",
    "    sample_colors = ('#fc4e2a', '#e31a1c', '#bd0026')\n",
    "    fill_color = '#fd8d3c'\n",
    "    mean_color = '#800026'\n",
    "    num_samples = len(sample_colors)\n",
    "\n"
   ]
  },
  {
   "cell_type": "code",
   "execution_count": 11,
   "metadata": {},
   "outputs": [],
   "source": [
    "class LinearScheduler(object):\n",
    "    def __init__(self, iters, maxval=1.0):\n",
    "        self._iters = max(1, iters)\n",
    "        self._val = maxval / self._iters\n",
    "        self._maxval = maxval\n",
    "\n",
    "    def step(self):\n",
    "        self._val = min(self._maxval, self._val + self._maxval / self._iters)\n",
    "\n",
    "    @property\n",
    "    def val(self):\n",
    "        return self._val\n",
    "\n",
    "\n",
    "class EMAMetric(object):\n",
    "    def __init__(self, gamma: Optional[float] = .99):\n",
    "        super(EMAMetric, self).__init__()\n",
    "        self._val = 0.\n",
    "        self._gamma = gamma\n",
    "\n",
    "    def step(self, x: Union[torch.Tensor, np.ndarray]):\n",
    "        x = x.detach().cpu().numpy() if torch.is_tensor(x) else x\n",
    "        self._val = self._gamma * self._val + (1 - self._gamma) * x\n",
    "        return self._val\n",
    "\n",
    "    @property\n",
    "    def val(self):\n",
    "        return self._val"
   ]
  },
  {
   "cell_type": "code",
   "execution_count": 76,
   "metadata": {},
   "outputs": [],
   "source": [
    "def manual_seed(seed: int):\n",
    "    random.seed(seed)\n",
    "    np.random.seed(seed)\n",
    "    torch.manual_seed(seed)\n",
    "\n",
    "\n",
    "def _stable_division(a, b, epsilon=1e-7):\n",
    "    b = torch.where(b.abs().detach() > epsilon, b, torch.full_like(b, fill_value=epsilon) * b.sign())\n",
    "    return a / b\n",
    "class LatentSDE(torchsde.SDEIto):\n",
    "\n",
    "    def __init__(self, smoothness=0.5, variance=1, lengthscale=1, fix_variance=True, fix_lengthscale=True, device=\"cpu\"):\n",
    "        super(LatentSDE, self).__init__(noise_type=\"diagonal\")\n",
    "        # define kernel function\n",
    "        self.kernel = MaternSDEKernel(smoothness=smoothness, variance=variance, lengthscale=lengthscale, fix_variance=fix_variance, fix_lengthscale=fix_lengthscale, device=device)\n",
    "        self.device = device\n",
    "        \n",
    "        # initial distribution p(y0).\n",
    "        # self.register_buffer(\"py0_mean\", torch.tensor([[0.0]]))\n",
    "        self.register_buffer(\"py0_mean\", torch.zeros((self.kernel.state_dim())))\n",
    "\n",
    "        # Approximate posterior drift: Takes in 2 positional encodings and the state.\n",
    "        self.net = nn.Sequential(\n",
    "            nn.Linear(2 + self.kernel.state_dim(), 200),\n",
    "            nn.ReLU(),\n",
    "            nn.Linear(200, 200),\n",
    "            nn.ReLU(),\n",
    "            nn.Linear(200, self.kernel.state_dim())\n",
    "        )\n",
    "        # Initialization trick from Glow.\n",
    "        self.net[-1].weight.data.fill_(0.)\n",
    "        self.net[-1].bias.data.fill_(0.)\n",
    "\n",
    "        # self.qy0_mean = nn.Parameter(torch.tensor([[0.0]]), requires_grad=True)\n",
    "        # self.qy0_logvar = nn.Parameter(torch.tensor([[logvar]]), requires_grad=True)\n",
    "\n",
    "        self.qy0_mean = nn.Parameter(torch.zeros((self.kernel.state_dim())), requires_grad=True)\n",
    "        self.qy0_std_unconstrained = nn.Parameter(softplus_inverse(torch.ones((self.kernel.state_dim()))), requires_grad=True)\n",
    "\n",
    "    @property\n",
    "    def qy0_std(self):\n",
    "        return nn.functional.softplus(self.qy0_std_unconstrained)\n",
    "\n",
    "    def f(self, t, y):  # Approximate posterior drift.\n",
    "        if t.dim() == 0:\n",
    "            t = torch.full_like(y[:,:1], fill_value=t)\n",
    "        # Positional encoding in transformers for time-inhomogeneous posterior.\n",
    "        return self.net(torch.cat((torch.sin(t), torch.cos(t), y), dim=-1))\n",
    "\n",
    "    def g(self, t, y):  # Shared diffusion.\n",
    "        \"\"\"Define this using GP Kernel methods\n",
    "        \"\"\"\n",
    "        # return self.sigma.repeat(y.size(0), 1)\n",
    "        # drift matrix = sigma^2 * sqrt(2 / l) for Matern12 kernel (diffusion of BM is 2/l)\n",
    "        return self.kernel.g(t, y)\n",
    "        # return torch.ones(y.size(0), 1, device=self.device) * math.sqrt(2 / (self.lengthscale))\n",
    "\n",
    "    def h(self, t, y):  # Prior drift.\n",
    "        \"\"\"Define this using GP Kernel methods\n",
    "        \"\"\"\n",
    "        return self.kernel.f(t, y)\n",
    "        # return -1/self.lengthscale * y\n",
    "\n",
    "    def f_aug(self, t, y):  # Drift for augmented dynamics with logqp term.\n",
    "        y = y[:, 0:self.kernel.state_dim()]\n",
    "        f, pseudo_inv, h = self.f(t, y), self.kernel.diffusion_pseudoinverse(y), self.h(t, y)\n",
    "        # u = _stable_division(f - h, g)\n",
    "\n",
    "        # pseudo_inv: batch x state_dim\n",
    "        # f,h: batch x state_dim\n",
    "        u = pseudo_inv * (f-h)\n",
    "        f_logqp = .5 * (u ** 2).sum(dim=1, keepdim=True)\n",
    "        return torch.cat([f, f_logqp], dim=1)\n",
    "\n",
    "    def g_aug(self, t, y):  # Diffusion for augmented dynamics with logqp term.\n",
    "        y = y[:, 0:self.kernel.state_dim()]\n",
    "        g = self.g(t, y)\n",
    "        g_logqp = torch.zeros_like(y[:,:1])\n",
    "        return torch.cat([g, g_logqp], dim=1)\n",
    "\n",
    "    def forward(self, ts, batch_size, eps=None):\n",
    "        eps = torch.randn(batch_size, 1).to(self.qy0_std) if eps is None else eps\n",
    "        y0 = self.qy0_mean + eps * self.qy0_std\n",
    "        qy0 = distributions.Normal(loc=self.qy0_mean, scale=self.qy0_std)\n",
    "        py0 = distributions.Normal(loc=self.py0_mean, scale=self.kernel.stationary_covariance().sqrt())\n",
    "        logqp0 = distributions.kl_divergence(qy0, py0).sum(dim=1)  # KL(t=0).\n",
    "\n",
    "        aug_y0 = torch.cat([y0, torch.zeros(batch_size, 1).to(y0)], dim=1)\n",
    "        aug_ys = sdeint_fn(\n",
    "            sde=self,\n",
    "            y0=aug_y0,\n",
    "            ts=ts,\n",
    "            method=method,\n",
    "            dt=dt,\n",
    "            adaptive=adaptive,\n",
    "            rtol=rtol,\n",
    "            atol=atol,\n",
    "            names={'drift': 'f_aug', 'diffusion': 'g_aug'}\n",
    "        )\n",
    "        ys, logqp_path = aug_ys[:, :, 0:-1], aug_ys[-1, :, -1]\n",
    "        logqp = (logqp0 + logqp_path).mean(dim=0)  # KL(t=0) + KL(path).\n",
    "        out = torch.einsum(\"ij, tbj -> tbi\", self.kernel.measurement_model(), ys)\n",
    "        return out, logqp\n",
    "\n",
    "    ### skipping operations\n",
    "    def forward_skip(self, batch_size, ts_segments, eps=None):\n",
    "\n",
    "        # suppose we learn the stationary distribution\n",
    "        eps = torch.randn(batch_size, 1).to(self.qy0_std) if eps is None else eps\n",
    "        y0 = self.qy0_mean + eps * self.qy0_std\n",
    "        qy0 = distributions.Normal(loc=self.qy0_mean, scale=self.qy0_std)\n",
    "        py0 = distributions.Normal(loc=self.py0_mean, scale=self.kernel.variance.sqrt())\n",
    "        logqp0 = distributions.kl_divergence(qy0, py0).sum(dim=1)  # KL(t=0).\n",
    "        aug_y0 = torch.cat([y0, torch.zeros(batch_size, 1).to(y0)], dim=1)\n",
    "        \n",
    "        for i, ts_segment in enumerate(ts_segments):\n",
    "            # ts_segment = ts[(ts >= t_starts[i]) & (ts <= t_ends[i])]     \n",
    "            # ts_segment[0] -= mixing_time\n",
    "            # ts_segment[-1] += mixing_time\n",
    "            # ts_segment = ts_segments[i]\n",
    "            aug_ys = sdeint_fn(\n",
    "                sde=self,\n",
    "                y0=aug_y0,\n",
    "                ts=ts_segment,\n",
    "                method=method,\n",
    "                dt=dt,\n",
    "                adaptive=adaptive,\n",
    "                rtol=rtol,\n",
    "                atol=atol,\n",
    "                names={'drift': 'f_aug', 'diffusion': 'g_aug'}\n",
    "            )\n",
    "            ys_segment, logqp_path = aug_ys[:, :, 0:1], aug_ys[-1, :, :1]\n",
    "            if i == 0:\n",
    "                ys = ys_segment[1:-1]\n",
    "            else:\n",
    "                ys = torch.concat([ys, ys_segment[1:-1]], axis=0)\n",
    "            eps = torch.randn(batch_size, 1).to(self.qy0_std)\n",
    "            y0 = self.qy0_mean + eps * self.qy0_std\n",
    "            aug_y0 = torch.cat([y0, logqp_path], dim=1)\n",
    "        logqp_path = aug_ys[-1, :, 1]\n",
    "        logqp = (logqp0 + logqp_path).mean(dim=0)  # KL(t=0) + KL(path).\n",
    "        out = torch.einsum(\"ij, tbj -> tbi\", self.kernel.measurement_model(), ys)\n",
    "        return out, logqp\n",
    "\n",
    "    def sample_p(self, ts, batch_size, eps=None, bm=None):\n",
    "        eps = torch.randn(batch_size, 1).to(self.py0_mean) if eps is None else eps\n",
    "        y0 = self.py0_mean + torch.einsum(\"ij, bj -> bi\", self.kernel.stationary_covariance().sqrt(), eps)\n",
    "        print(y0.shape)\n",
    "        yt = sdeint_fn(self, y0, ts, bm=bm, method='srk', dt=dt, names={'drift': 'h'})\n",
    "        out = torch.einsum(\"ij, tbj -> tbi\", self.kernel.measurement_model(), yt)\n",
    "        return out\n",
    "\n",
    "    def sample_q(self, ts, batch_size, eps=None, bm=None):\n",
    "        eps = torch.randn(batch_size, 1).to(self.qy0_mean) if eps is None else eps\n",
    "        # y0 = self.qy0_mean + eps * self.qy0_std\n",
    "        y0 = self.qy0_mean + torch.einsum(\"ij, bj -> bi\", self.kernel.stationary_covariance().sqrt(), eps)\n",
    "        print(y0.shape)\n",
    "        yt = sdeint_fn(self, y0, ts, bm=bm, method='srk', dt=dt)\n",
    "        out = torch.einsum(\"ij, tbj -> tbi\", self.kernel.measurement_model(), yt)\n",
    "        return out\n"
   ]
  },
  {
   "cell_type": "code",
   "execution_count": 77,
   "metadata": {},
   "outputs": [],
   "source": [
    "model = LatentSDE(device=device, lengthscale=lengthscale, smoothness=1.5).to(device)\n",
    "sdeint_fn = torchsde.sdeint\n"
   ]
  },
  {
   "cell_type": "code",
   "execution_count": 105,
   "metadata": {},
   "outputs": [],
   "source": [
    "ts, ys = ts.cuda(), ys.cuda()\n",
    "eps = torch.randn(batch_size, 1).to(model.qy0_std)\n",
    "y0 = model.qy0_mean + eps * model.qy0_std\n",
    "aug_y0 = torch.cat([y0, torch.zeros(batch_size, 1).to(y0)], dim=1)\n"
   ]
  },
  {
   "cell_type": "code",
   "execution_count": 106,
   "metadata": {},
   "outputs": [
    {
     "data": {
      "text/plain": [
       "(torch.Size([10, 2]),\n",
       " torch.Size([10, 2]),\n",
       " torch.Size([512, 3]),\n",
       " torch.Size([512, 3]))"
      ]
     },
     "execution_count": 106,
     "metadata": {},
     "output_type": "execute_result"
    }
   ],
   "source": [
    "# matern12\n",
    "model.g(ts, ys.repeat([1,2])).shape, model.f(ts[0], ys.repeat([1,2])).shape, model.f_aug(ts[0], aug_y0).shape, model.g_aug(ts[0], aug_y0).shape"
   ]
  },
  {
   "cell_type": "code",
   "execution_count": 34,
   "metadata": {},
   "outputs": [],
   "source": [
    "eps = torch.randn(vis_batch_size, 1).to(device)  # Fix seed for the random draws used in the plots.\n",
    "bm = torchsde.BrownianInterval(\n",
    "    t0=ts_vis[0],\n",
    "    t1=ts_vis[-1],\n",
    "    size=(vis_batch_size, 2),\n",
    "    device=device,\n",
    "    levy_area_approximation='space-time'\n",
    ")  # We need space-time Levy area to use the SRK solver"
   ]
  },
  {
   "cell_type": "code",
   "execution_count": 35,
   "metadata": {},
   "outputs": [
    {
     "name": "stdout",
     "output_type": "stream",
     "text": [
      "torch.Size([1024, 2])\n"
     ]
    }
   ],
   "source": [
    "samples = model.sample_p(ts=ts_vis, batch_size=batch_size, eps=eps, bm=bm)"
   ]
  },
  {
   "cell_type": "code",
   "execution_count": 147,
   "metadata": {},
   "outputs": [
    {
     "data": {
      "text/plain": [
       "(torch.Size([300]), 1024)"
      ]
     },
     "execution_count": 147,
     "metadata": {},
     "output_type": "execute_result"
    }
   ],
   "source": [
    "ts_vis.shape, vis_batch_size"
   ]
  },
  {
   "cell_type": "code",
   "execution_count": 20,
   "metadata": {},
   "outputs": [
    {
     "data": {
      "text/plain": [
       "(torch.Size([300]), torch.Size([1024, 1]))"
      ]
     },
     "execution_count": 20,
     "metadata": {},
     "output_type": "execute_result"
    }
   ],
   "source": [
    "ts_vis.shape, eps.shape"
   ]
  },
  {
   "cell_type": "code",
   "execution_count": 36,
   "metadata": {},
   "outputs": [],
   "source": [
    "eps = torch.randn(10, 1).to(device)  # Fix seed for the random draws used in the plots.\n",
    "bm = torchsde.BrownianInterval(\n",
    "    t0=ts_vis[0],\n",
    "    t1=ts_vis[-1],\n",
    "    size=(10, 2),\n",
    "    device=device,\n",
    "    levy_area_approximation='space-time'\n",
    ")  # We need space-time Levy area to use the SRK solver"
   ]
  },
  {
   "cell_type": "code",
   "execution_count": 68,
   "metadata": {},
   "outputs": [
    {
     "data": {
      "text/plain": [
       "torch.Size([10, 2])"
      ]
     },
     "execution_count": 68,
     "metadata": {},
     "output_type": "execute_result"
    }
   ],
   "source": [
    "y0.shape"
   ]
  },
  {
   "cell_type": "code",
   "execution_count": 87,
   "metadata": {},
   "outputs": [],
   "source": [
    "net =  nn.Sequential(\n",
    "            nn.Linear(2 + model.kernel.state_dim(), 200),\n",
    "            nn.ReLU(),\n",
    "            nn.Linear(200, 200),\n",
    "            nn.ReLU(),\n",
    "            nn.Linear(200, model.kernel.state_dim())\n",
    "\n",
    "        ).cuda()"
   ]
  },
  {
   "cell_type": "code",
   "execution_count": 100,
   "metadata": {},
   "outputs": [
    {
     "data": {
      "text/plain": [
       "tensor([[ 0.0425, -0.0736],\n",
       "        [ 0.0723, -0.0600],\n",
       "        [-0.0226, -0.0332],\n",
       "        [ 0.0245, -0.0587],\n",
       "        [ 0.0979, -0.0452],\n",
       "        [ 0.0143, -0.0519],\n",
       "        [ 0.1106, -0.0420],\n",
       "        [ 0.0735, -0.0592],\n",
       "        [-0.0225, -0.0331],\n",
       "        [ 0.0499, -0.0702]], device='cuda:0', grad_fn=<AddmmBackward0>)"
      ]
     },
     "execution_count": 100,
     "metadata": {},
     "output_type": "execute_result"
    }
   ],
   "source": [
    "t = ts[0]\n",
    "t = torch.full_like(y0[:,:1], fill_value=t)\n",
    "# Positional encoding in transformers for time-inhomogeneous posterior.\n",
    "net(torch.cat((torch.sin(t), torch.cos(t), y0), dim=-1))"
   ]
  },
  {
   "cell_type": "code",
   "execution_count": 83,
   "metadata": {},
   "outputs": [
    {
     "data": {
      "text/plain": [
       "tensor([[ 0.2662,  0.9639,  0.1645,  0.1645],\n",
       "        [ 0.2662,  0.9639,  0.4795,  0.4795],\n",
       "        [ 0.2662,  0.9639, -0.9585, -0.9585],\n",
       "        [ 0.2662,  0.9639, -0.1275, -0.1275],\n",
       "        [ 0.2662,  0.9639,  0.8049,  0.8049],\n",
       "        [ 0.2662,  0.9639, -0.2612, -0.2612],\n",
       "        [ 0.2662,  0.9639,  1.0323,  1.0323],\n",
       "        [ 0.2662,  0.9639,  0.4909,  0.4909],\n",
       "        [ 0.2662,  0.9639, -0.9536, -0.9536],\n",
       "        [ 0.2662,  0.9639,  0.2453,  0.2453]], device='cuda:0',\n",
       "       grad_fn=<CatBackward0>)"
      ]
     },
     "execution_count": 83,
     "metadata": {},
     "output_type": "execute_result"
    }
   ],
   "source": [
    "torch.cat((torch.sin(t), torch.cos(t), y0), dim=-1)"
   ]
  },
  {
   "cell_type": "code",
   "execution_count": 78,
   "metadata": {},
   "outputs": [
    {
     "data": {
      "text/plain": [
       "tensor([[0., 0.],\n",
       "        [0., 0.],\n",
       "        [0., 0.],\n",
       "        [0., 0.],\n",
       "        [0., 0.],\n",
       "        [0., 0.],\n",
       "        [0., 0.],\n",
       "        [0., 0.],\n",
       "        [0., 0.],\n",
       "        [0., 0.]], device='cuda:0', grad_fn=<AddmmBackward0>)"
      ]
     },
     "execution_count": 78,
     "metadata": {},
     "output_type": "execute_result"
    }
   ],
   "source": [
    "model.f(ts[0], y0)"
   ]
  },
  {
   "cell_type": "code",
   "execution_count": 56,
   "metadata": {},
   "outputs": [
    {
     "name": "stdout",
     "output_type": "stream",
     "text": [
      "torch.Size([10, 2])\n"
     ]
    }
   ],
   "source": [
    "samples_q = model.sample_q(ts=ts_vis, batch_size=10, eps=eps[:10], bm=bm)"
   ]
  },
  {
   "cell_type": "code",
   "execution_count": null,
   "metadata": {},
   "outputs": [],
   "source": []
  },
  {
   "cell_type": "code",
   "execution_count": 63,
   "metadata": {},
   "outputs": [
    {
     "data": {
      "text/plain": [
       "[<matplotlib.lines.Line2D at 0x7fea083f82b0>]"
      ]
     },
     "execution_count": 63,
     "metadata": {},
     "output_type": "execute_result"
    },
    {
     "data": {
      "image/png": "[encoded data removed]",
      "text/plain": [
       "<Figure size 640x480 with 1 Axes>"
      ]
     },
     "metadata": {},
     "output_type": "display_data"
    }
   ],
   "source": [
    "plt.plot(samples.detach().cpu().numpy()[:,3,0])\n",
    "plt.plot(samples_q.detach().cpu().numpy()[:,3,0])"
   ]
  },
  {
   "cell_type": "markdown",
   "metadata": {},
   "source": [
    "## plot prior"
   ]
  },
  {
   "cell_type": "code",
   "execution_count": 21,
   "metadata": {},
   "outputs": [],
   "source": [
    "ckpt_epochs = np.linspace(0, 4950, 100).astype(int)"
   ]
  },
  {
   "cell_type": "code",
   "execution_count": 16,
   "metadata": {},
   "outputs": [],
   "source": [
    "font = {'weight' : 'bold',\n",
    "        'size'   : 22}\n",
    "import matplotlib\n",
    "matplotlib.rc('font', **font)"
   ]
  },
  {
   "cell_type": "code",
   "execution_count": 52,
   "metadata": {},
   "outputs": [
    {
     "name": "stderr",
     "output_type": "stream",
     "text": [
      "WARNING:matplotlib.font_manager:findfont: Font family 'normal' not found.\n",
      "WARNING:matplotlib.font_manager:findfont: Font family 'normal' not found.\n",
      "WARNING:matplotlib.font_manager:findfont: Font family 'normal' not found.\n",
      "WARNING:matplotlib.font_manager:findfont: Font family 'normal' not found.\n",
      "WARNING:matplotlib.font_manager:findfont: Font family 'normal' not found.\n",
      "WARNING:matplotlib.font_manager:findfont: Font family 'normal' not found.\n",
      "WARNING:matplotlib.font_manager:findfont: Font family 'normal' not found.\n",
      "WARNING:matplotlib.font_manager:findfont: Font family 'normal' not found.\n",
      "WARNING:matplotlib.font_manager:findfont: Font family 'normal' not found.\n",
      "WARNING:matplotlib.font_manager:findfont: Font family 'normal' not found.\n",
      "WARNING:matplotlib.font_manager:findfont: Font family 'normal' not found.\n",
      "WARNING:matplotlib.font_manager:findfont: Font family 'normal' not found.\n",
      "WARNING:matplotlib.font_manager:findfont: Font family 'normal' not found.\n",
      "WARNING:matplotlib.font_manager:findfont: Font family 'normal' not found.\n",
      "WARNING:matplotlib.font_manager:findfont: Font family 'normal' not found.\n",
      "WARNING:matplotlib.font_manager:findfont: Font family 'normal' not found.\n",
      "WARNING:matplotlib.font_manager:findfont: Font family 'normal' not found.\n",
      "WARNING:matplotlib.font_manager:findfont: Font family 'normal' not found.\n",
      "WARNING:matplotlib.font_manager:findfont: Font family 'normal' not found.\n",
      "WARNING:matplotlib.font_manager:findfont: Font family 'normal' not found.\n",
      "WARNING:matplotlib.font_manager:findfont: Font family 'normal' not found.\n",
      "WARNING:matplotlib.font_manager:findfont: Font family 'normal' not found.\n",
      "WARNING:matplotlib.font_manager:findfont: Font family 'normal' not found.\n",
      "WARNING:matplotlib.font_manager:findfont: Font family 'normal' not found.\n",
      "WARNING:matplotlib.font_manager:findfont: Font family 'normal' not found.\n",
      "WARNING:matplotlib.font_manager:findfont: Font family 'normal' not found.\n",
      "WARNING:matplotlib.font_manager:findfont: Font family 'normal' not found.\n",
      "WARNING:matplotlib.font_manager:findfont: Font family 'normal' not found.\n",
      "WARNING:matplotlib.font_manager:findfont: Font family 'normal' not found.\n",
      "WARNING:matplotlib.font_manager:findfont: Font family 'normal' not found.\n",
      "WARNING:matplotlib.font_manager:findfont: Font family 'normal' not found.\n",
      "WARNING:matplotlib.font_manager:findfont: Font family 'normal' not found.\n",
      "WARNING:matplotlib.font_manager:findfont: Font family 'normal' not found.\n",
      "WARNING:matplotlib.font_manager:findfont: Font family 'normal' not found.\n",
      "WARNING:matplotlib.font_manager:findfont: Font family 'normal' not found.\n",
      "WARNING:matplotlib.font_manager:findfont: Font family 'normal' not found.\n",
      "WARNING:matplotlib.font_manager:findfont: Font family 'normal' not found.\n",
      "WARNING:matplotlib.font_manager:findfont: Font family 'normal' not found.\n",
      "WARNING:matplotlib.font_manager:findfont: Font family 'normal' not found.\n",
      "WARNING:matplotlib.font_manager:findfont: Font family 'normal' not found.\n",
      "WARNING:matplotlib.font_manager:findfont: Font family 'normal' not found.\n",
      "WARNING:matplotlib.font_manager:findfont: Font family 'normal' not found.\n",
      "WARNING:matplotlib.font_manager:findfont: Font family 'normal' not found.\n",
      "WARNING:matplotlib.font_manager:findfont: Font family 'normal' not found.\n",
      "WARNING:matplotlib.font_manager:findfont: Font family 'normal' not found.\n",
      "WARNING:matplotlib.font_manager:findfont: Font family 'normal' not found.\n",
      "WARNING:matplotlib.font_manager:findfont: Font family 'normal' not found.\n",
      "WARNING:matplotlib.font_manager:findfont: Font family 'normal' not found.\n",
      "WARNING:matplotlib.font_manager:findfont: Font family 'normal' not found.\n",
      "WARNING:matplotlib.font_manager:findfont: Font family 'normal' not found.\n",
      "WARNING:matplotlib.font_manager:findfont: Font family 'normal' not found.\n",
      "WARNING:matplotlib.font_manager:findfont: Font family 'normal' not found.\n",
      "WARNING:matplotlib.font_manager:findfont: Font family 'normal' not found.\n",
      "WARNING:matplotlib.font_manager:findfont: Font family 'normal' not found.\n",
      "WARNING:matplotlib.font_manager:findfont: Font family 'normal' not found.\n",
      "WARNING:matplotlib.font_manager:findfont: Font family 'normal' not found.\n",
      "WARNING:matplotlib.font_manager:findfont: Font family 'normal' not found.\n",
      "WARNING:matplotlib.font_manager:findfont: Font family 'normal' not found.\n",
      "WARNING:matplotlib.font_manager:findfont: Font family 'normal' not found.\n",
      "WARNING:matplotlib.font_manager:findfont: Font family 'normal' not found.\n",
      "WARNING:matplotlib.font_manager:findfont: Font family 'normal' not found.\n",
      "WARNING:matplotlib.font_manager:findfont: Font family 'normal' not found.\n",
      "WARNING:matplotlib.font_manager:findfont: Font family 'normal' not found.\n",
      "WARNING:matplotlib.font_manager:findfont: Font family 'normal' not found.\n",
      "WARNING:matplotlib.font_manager:findfont: Font family 'normal' not found.\n",
      "WARNING:matplotlib.font_manager:findfont: Font family 'normal' not found.\n",
      "WARNING:matplotlib.font_manager:findfont: Font family 'normal' not found.\n",
      "WARNING:matplotlib.font_manager:findfont: Font family 'normal' not found.\n",
      "WARNING:matplotlib.font_manager:findfont: Font family 'normal' not found.\n",
      "WARNING:matplotlib.font_manager:findfont: Font family 'normal' not found.\n",
      "WARNING:matplotlib.font_manager:findfont: Font family 'normal' not found.\n",
      "WARNING:matplotlib.font_manager:findfont: Font family 'normal' not found.\n",
      "WARNING:matplotlib.font_manager:findfont: Font family 'normal' not found.\n",
      "WARNING:matplotlib.font_manager:findfont: Font family 'normal' not found.\n",
      "WARNING:matplotlib.font_manager:findfont: Font family 'normal' not found.\n",
      "WARNING:matplotlib.font_manager:findfont: Font family 'normal' not found.\n",
      "WARNING:matplotlib.font_manager:findfont: Font family 'normal' not found.\n",
      "WARNING:matplotlib.font_manager:findfont: Font family 'normal' not found.\n",
      "WARNING:matplotlib.font_manager:findfont: Font family 'normal' not found.\n",
      "WARNING:matplotlib.font_manager:findfont: Font family 'normal' not found.\n",
      "WARNING:matplotlib.font_manager:findfont: Font family 'normal' not found.\n",
      "WARNING:matplotlib.font_manager:findfont: Font family 'normal' not found.\n",
      "WARNING:matplotlib.font_manager:findfont: Font family 'normal' not found.\n",
      "WARNING:matplotlib.font_manager:findfont: Font family 'normal' not found.\n",
      "WARNING:matplotlib.font_manager:findfont: Font family 'normal' not found.\n",
      "WARNING:matplotlib.font_manager:findfont: Font family 'normal' not found.\n",
      "WARNING:matplotlib.font_manager:findfont: Font family 'normal' not found.\n",
      "WARNING:matplotlib.font_manager:findfont: Font family 'normal' not found.\n",
      "WARNING:matplotlib.font_manager:findfont: Font family 'normal' not found.\n",
      "WARNING:matplotlib.font_manager:findfont: Font family 'normal' not found.\n",
      "WARNING:matplotlib.font_manager:findfont: Font family 'normal' not found.\n",
      "WARNING:matplotlib.font_manager:findfont: Font family 'normal' not found.\n",
      "WARNING:matplotlib.font_manager:findfont: Font family 'normal' not found.\n",
      "WARNING:matplotlib.font_manager:findfont: Font family 'normal' not found.\n",
      "WARNING:matplotlib.font_manager:findfont: Font family 'normal' not found.\n",
      "WARNING:matplotlib.font_manager:findfont: Font family 'normal' not found.\n",
      "WARNING:matplotlib.font_manager:findfont: Font family 'normal' not found.\n",
      "WARNING:matplotlib.font_manager:findfont: Font family 'normal' not found.\n",
      "WARNING:matplotlib.font_manager:findfont: Font family 'normal' not found.\n",
      "WARNING:matplotlib.font_manager:findfont: Font family 'normal' not found.\n"
     ]
    }
   ],
   "source": [
    "t_kl_plot = torch.Tensor(np.linspace(ts_ext[0], ts_ext[-1], 100))\n",
    "for epoch in ckpt_epochs[-1:]:\n",
    "    img_path = os.path.join(\"gp_matern12_viz/\", f'prior_step_{epoch}.pdf')\n",
    "    model.load_state_dict(torch.load(f\"gp_matern12_viz/ckpts/global_step_{epoch}.ckpt\")[\"model\"])\n",
    "    with torch.no_grad():\n",
    "        zs = model.sample_q(ts=ts_vis, batch_size=vis_batch_size, eps=eps, bm=bm).squeeze()\n",
    "        samples = zs[:, vis_idx]\n",
    "        ts_vis_, zs_, samples_ = ts_vis.cpu().numpy(), zs.cpu().numpy(), samples.cpu().numpy()\n",
    "        zs_ = np.sort(zs_, axis=1)\n",
    "        fig, (ax1, ax2) = plt.subplots(2, frameon=False, figsize=(20,10), sharex=True)\n",
    "\n",
    "        for alpha, percentile in zip(alphas, percentiles):\n",
    "            idx = int((1 - percentile) / 2. * vis_batch_size)\n",
    "            zs_bot_, zs_top_ = zs_[:, idx], zs_[:, -idx]\n",
    "            ax1.fill_between(ts_vis_, zs_bot_, zs_top_, alpha=alpha, color=fill_color, label=\"Posterior 95%\")\n",
    "\n",
    "        ax1.plot(ts_vis_, zs_.mean(axis=1), color=mean_color, linewidth=2.5)\n",
    "\n",
    "        for j in range(num_samples):\n",
    "            ax1.plot(ts_vis_, samples_[:, j], color=sample_colors[j], linewidth=2.5)\n",
    "\n",
    "        # plot the prior\n",
    "        zs = model.sample_p(ts=ts_vis, batch_size=vis_batch_size, eps=eps, bm=bm).squeeze()\n",
    "        ts_vis_, zs_ = ts_vis.cpu().numpy(), zs.cpu().numpy()\n",
    "        zs_ = np.sort(zs_, axis=1)\n",
    "        \n",
    "        for alpha, percentile in zip(alphas, percentiles):\n",
    "            idx = int((1 - percentile) / 2. * vis_batch_size)\n",
    "            zs_bot_ = zs_[:, idx]\n",
    "            zs_top_ = zs_[:, -idx]\n",
    "            ax1.fill_between(ts_vis_, zs_bot_, zs_top_, alpha=alpha, color=\"C1\", label=\"Prior 95%\")\n",
    "\n",
    "        # plot KL at each point\n",
    "        eps_normal = torch.randn(batch_size, 1).to(model.qy0_std)\n",
    "        y0 = model.qy0_mean + eps_normal * model.qy0_std\n",
    "        qy0 = distributions.Normal(loc=model.qy0_mean, scale=model.qy0_std)\n",
    "        py0 = distributions.Normal(loc=model.py0_mean, scale=model.py0_std)\n",
    "        logqp0 = distributions.kl_divergence(qy0, py0).sum(dim=1)  # KL(t=0).\n",
    "        aug_y0 = torch.cat([y0, torch.zeros(batch_size, 1).to(y0)], dim=1)\n",
    "        aug_ys = sdeint_fn(\n",
    "            sde=model,\n",
    "            y0=aug_y0,\n",
    "            ts=t_kl_plot,\n",
    "            method=method,\n",
    "            dt=dt,\n",
    "            adaptive=adaptive,\n",
    "            rtol=rtol,\n",
    "            atol=atol,\n",
    "            bm=None,\n",
    "            names={'drift': 'f_aug', 'diffusion': 'g_aug'},\n",
    "        )\n",
    "        cum_kl = aug_ys[:,:,1].mean(1)\n",
    "        kl_list = torch.diff(cum_kl)\n",
    "        ax2.plot(t_kl_plot[1:].cpu().detach().numpy(), kl_list.cpu().detach().numpy(), linewidth=2.5)\n",
    "        # ax2.plot(ts_, np.zeros_like(ys_), \"x\", color=\"black\", linewidth=400)\n",
    "        ax2.scatter(ts_, np.zeros_like(ys_), marker='x', color='black', s=400)  # Data.\n",
    "        ax2.hlines(0, 0, 2.2, linestyle=\"--\")\n",
    "    \n",
    "        ax1.scatter(ts_, ys_, marker='.', color='black', s=400, zorder=2)  # Data.\n",
    "        ax1.set_ylim(-2, 2)\n",
    "        ax2.set_ylim(-0.3, 5)\n",
    "        ax1.legend(loc=\"lower right\")\n",
    "        ax1.set_xlabel('$t$')\n",
    "        ax1.set_ylabel('$Y_t$')\n",
    "        ax2.set_ylabel('KL-Divergence')\n",
    "        ax2.set_xlim(0, 2)\n",
    "        # plt.tight_layout()\n",
    "        plt.savefig(img_path, dpi=dpi)\n",
    "        plt.close()\n",
    "        logging.info(f'Saved figure at: {img_path}')"
   ]
  },
  {
   "cell_type": "code",
   "execution_count": 22,
   "metadata": {},
   "outputs": [],
   "source": [
    "t_kl_plot = torch.Tensor(np.linspace(ts_ext[0], ts_ext[-1], 100))\n",
    "for epoch in ckpt_epochs[-1:]:\n",
    "    img_path = os.path.join(\"gp_matern12_dt1e3_viz/\", f'prior_step_{epoch}.pdf')\n",
    "    model.load_state_dict(torch.load(f\"gp_matern12_dt1e3_viz/ckpts/global_step_{epoch}.ckpt\")[\"model\"])\n",
    "    with torch.no_grad():\n",
    "        zs = model.sample_q(ts=ts_vis, batch_size=vis_batch_size, eps=eps, bm=bm).squeeze()\n",
    "        samples = zs[:, vis_idx]\n",
    "        ts_vis_, zs_, samples_ = ts_vis.cpu().numpy(), zs.cpu().numpy(), samples.cpu().numpy()\n",
    "        zs_ = np.sort(zs_, axis=1)\n",
    "        fig, (ax1, ax2) = plt.subplots(2, frameon=False, figsize=(20,10), sharex=True)\n",
    "\n",
    "        for alpha, percentile in zip(alphas, percentiles):\n",
    "            idx = int((1 - percentile) / 2. * vis_batch_size)\n",
    "            zs_bot_, zs_top_ = zs_[:, idx], zs_[:, -idx]\n",
    "            ax1.fill_between(ts_vis_, zs_bot_, zs_top_, alpha=alpha, color=fill_color, label=\"Posterior 95%\")\n",
    "\n",
    "        ax1.plot(ts_vis_, zs_.mean(axis=1), color=mean_color, linewidth=2.5)\n",
    "\n",
    "        for j in range(num_samples):\n",
    "            ax1.plot(ts_vis_, samples_[:, j], color=sample_colors[j], linewidth=2.5)\n",
    "\n",
    "        # plot the prior\n",
    "        zs = model.sample_p(ts=ts_vis, batch_size=vis_batch_size, eps=eps, bm=bm).squeeze()\n",
    "        ts_vis_, zs_ = ts_vis.cpu().numpy(), zs.cpu().numpy()\n",
    "        zs_ = np.sort(zs_, axis=1)\n",
    "        \n",
    "        for alpha, percentile in zip(alphas, percentiles):\n",
    "            idx = int((1 - percentile) / 2. * vis_batch_size)\n",
    "            zs_bot_ = zs_[:, idx]\n",
    "            zs_top_ = zs_[:, -idx]\n",
    "            ax1.fill_between(ts_vis_, zs_bot_, zs_top_, alpha=alpha, color=\"C1\", label=\"Prior 95%\")\n",
    "\n",
    "        # plot KL at each point\n",
    "        eps_normal = torch.randn(batch_size, 1).to(model.qy0_std)\n",
    "        y0 = model.qy0_mean + eps_normal * model.qy0_std\n",
    "        qy0 = distributions.Normal(loc=model.qy0_mean, scale=model.qy0_std)\n",
    "        py0 = distributions.Normal(loc=model.py0_mean, scale=model.py0_std)\n",
    "        logqp0 = distributions.kl_divergence(qy0, py0).sum(dim=1)  # KL(t=0).\n",
    "        aug_y0 = torch.cat([y0, torch.zeros(batch_size, 1).to(y0)], dim=1)\n",
    "        aug_ys = sdeint_fn(\n",
    "            sde=model,\n",
    "            y0=aug_y0,\n",
    "            ts=t_kl_plot,\n",
    "            method=method,\n",
    "            dt=dt,\n",
    "            adaptive=adaptive,\n",
    "            rtol=rtol,\n",
    "            atol=atol,\n",
    "            bm=None,\n",
    "            names={'drift': 'f_aug', 'diffusion': 'g_aug'},\n",
    "        )\n",
    "        cum_kl = aug_ys[:,:,1].mean(1)\n",
    "        kl_list = torch.diff(cum_kl)\n",
    "        ax2.plot(t_kl_plot[1:].cpu().detach().numpy(), kl_list.cpu().detach().numpy(), linewidth=2.5)\n",
    "        # ax2.plot(ts_, np.zeros_like(ys_), \"x\", color=\"black\", linewidth=400)\n",
    "        ax2.scatter(ts_, np.zeros_like(ys_), marker='x', color='black', s=400)  # Data.\n",
    "        ax2.hlines(0, 0, 2.2, linestyle=\"--\")\n",
    "    \n",
    "        ax1.scatter(ts_, ys_, marker='.', color='black', s=400, zorder=2)  # Data.\n",
    "        ax1.set_ylim(-2, 2)\n",
    "        ax2.set_ylim(-0.3, 5)\n",
    "        ax1.legend(loc=\"lower right\")\n",
    "        ax1.set_xlabel('$t$')\n",
    "        ax1.set_ylabel('$Y_t$')\n",
    "        ax2.set_ylabel('KL-Divergence')\n",
    "        ax2.set_xlim(0, 2)\n",
    "        # plt.tight_layout()\n",
    "        plt.savefig(img_path, dpi=dpi)\n",
    "        plt.close()\n",
    "        logging.info(f'Saved figure at: {img_path}')"
   ]
  },
  {
   "cell_type": "code",
   "execution_count": null,
   "metadata": {},
   "outputs": [],
   "source": []
  }
 ],
 "metadata": {
  "kernelspec": {
   "display_name": "Python 3.8.10 ('.env': venv)",
   "language": "python",
   "name": "python3"
  },
  "language_info": {
   "codemirror_mode": {
    "name": "ipython",
    "version": 3
   },
   "file_extension": ".py",
   "mimetype": "text/x-python",
   "name": "python",
   "nbconvert_exporter": "python",
   "pygments_lexer": "ipython3",
   "version": "3.8.10"
  },
  "orig_nbformat": 4,
  "vscode": {
   "interpreter": {
    "hash": "d79b81f1bf487de2fc458141c8814068fb2454dcdefdc5e138a20b5481800e9f"
   }
  }
 },
 "nbformat": 4,
 "nbformat_minor": 2
}
