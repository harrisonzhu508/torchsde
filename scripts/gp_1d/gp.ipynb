{
 "cells": [
  {
   "cell_type": "code",
   "execution_count": 1,
   "metadata": {},
   "outputs": [],
   "source": [
    "%load_ext autoreload\n",
    "%autoreload 2"
   ]
  },
  {
   "cell_type": "code",
   "execution_count": 2,
   "metadata": {},
   "outputs": [
    {
     "name": "stderr",
     "output_type": "stream",
     "text": [
      "/home/hbz15/vector/torchsde/.env/lib/python3.8/site-packages/tqdm/auto.py:22: TqdmWarning: IProgress not found. Please update jupyter and ipywidgets. See https://ipywidgets.readthedocs.io/en/stable/user_install.html\n",
      "  from .autonotebook import tqdm as notebook_tqdm\n"
     ]
    }
   ],
   "source": [
    "import argparse\n",
    "import logging\n",
    "import math\n",
    "import os\n",
    "import random\n",
    "from collections import namedtuple\n",
    "from typing import Optional, Union\n",
    "from gpytorch.kernels import RBFKernel, MaternKernel\n",
    "\n",
    "os.environ[\"CUDA_VISIBLE_DEVICES\"] = \"1\"\n",
    "\n",
    "import matplotlib.pyplot as plt\n",
    "import numpy as np\n",
    "import torch\n",
    "import tqdm\n",
    "from torch import distributions, nn, optim\n",
    "\n",
    "import torchsde\n",
    "device = torch.device('cuda' if torch.cuda.is_available() else 'cpu')\n",
    "\n",
    "# w/ underscore -> numpy; w/o underscore -> torch.\n",
    "Data = namedtuple('Data', ['ts_', 'ts_ext_', 'ts_vis_', 'ts', 'ts_ext', 'ts_vis', 'ys', 'ys_'])\n",
    "import sys \n",
    "sys.path.append(\"../..\")\n",
    "lengthscale = 1\n",
    "def make_segmented_cosine_data():\n",
    "    ts_ = np.concatenate((np.linspace(0.3, 0.8, 10), np.linspace(1.2, 1.5, 10)), axis=0)\n",
    "    ts_ext_ = np.array([0.] + list(ts_) + [2.0])\n",
    "    ts_vis_ = np.linspace(0., 2.0, 300)\n",
    "    ys_ = np.cos(ts_ * (2. * math.pi))[:, None]\n",
    "\n",
    "    ts = torch.tensor(ts_).float()\n",
    "    ts_ext = torch.tensor(ts_ext_).float()\n",
    "    ts_vis = torch.tensor(ts_vis_).float()\n",
    "    ys = torch.tensor(ys_).float().to(device)\n",
    "    return Data(ts_, ts_ext_, ts_vis_, ts, ts_ext, ts_vis, ys, ys_)\n",
    "\n",
    "\n",
    "def make_irregular_sine_data():\n",
    "    ts_ = np.sort(np.random.uniform(low=0.4, high=1.6, size=16))\n",
    "    ts_ext_ = np.array([0.] + list(ts_) + [2.0])\n",
    "    ts_vis_ = np.linspace(0., 2.0, 300)\n",
    "    ys_ = np.sin(ts_ * (2. * math.pi))[:, None] * 0.8\n",
    "\n",
    "    ts = torch.tensor(ts_).float()\n",
    "    ts_ext = torch.tensor(ts_ext_).float()\n",
    "    ts_vis = torch.tensor(ts_vis_).float()\n",
    "    ys = torch.tensor(ys_).float().to(device)\n",
    "    return Data(ts_, ts_ext_, ts_vis_, ts, ts_ext, ts_vis, ys, ys_)\n",
    "\n",
    "def make_irregular_gp_data():\n",
    "    k = MaternKernel(nu=0.5)\n",
    "    k.lengthscale = lengthscale\n",
    "    ts = np.concatenate(\n",
    "        [\n",
    "            np.random.uniform(low=0.1, high=0.5, size=5),\n",
    "            np.random.uniform(low=1.5, high=1.9, size=5)\n",
    "        ],\n",
    "        axis=0\n",
    "    )\n",
    "    ts_ = np.sort(ts)\n",
    "    ts_ext_ = np.array([0.] + list(ts_) + [2.0])\n",
    "    ts_vis_ = np.linspace(0., 2.0, 300)\n",
    "    K = k(torch.Tensor(ts_)).evaluate().double() + (1e-6*torch.eye(ts_.shape[0])).double()\n",
    "    L = torch.linalg.cholesky(K)\n",
    "    ys_ = L.detach().cpu().numpy() @ np.random.normal(size=(K.shape[0], 1)).astype(np.float64)\n",
    "\n",
    "    ts = torch.tensor(ts_).float()\n",
    "    ts_ext = torch.tensor(ts_ext_).float()\n",
    "    ts_vis = torch.tensor(ts_vis_).float()\n",
    "    ys = torch.tensor(ys_).float().to(device)\n",
    "    return Data(ts_, ts_ext_, ts_vis_, ts, ts_ext, ts_vis, ys, ys_)\n",
    "\n",
    "def make_data(data_name=\"irregular_gp\"):\n",
    "    data_constructor = {\n",
    "        'segmented_cosine': make_segmented_cosine_data,\n",
    "        'irregular_sine': make_irregular_sine_data,\n",
    "        'irregular_gp': make_irregular_gp_data\n",
    "    }[data_name]\n",
    "    return data_constructor()"
   ]
  },
  {
   "cell_type": "code",
   "execution_count": 3,
   "metadata": {},
   "outputs": [],
   "source": [
    "def manual_seed(seed: int):\n",
    "    random.seed(seed)\n",
    "    np.random.seed(seed)\n",
    "    torch.manual_seed(seed)\n",
    "manual_seed(0)"
   ]
  },
  {
   "cell_type": "code",
   "execution_count": 4,
   "metadata": {},
   "outputs": [],
   "source": [
    "# Dataset.\n",
    "ts_, ts_ext_, ts_vis_, ts, ts_ext, ts_vis, ys, ys_ = make_data()\n",
    "# Plotting parameters.\n",
    "vis_batch_size = 1024\n",
    "ylims = (-3, 3)\n",
    "alphas = [0.55]\n",
    "# percentiles = [0.999, 0.99, 0.9, 0.8, 0.7, 0.6, 0.5, 0.4, 0.3, 0.2, 0.1]\n",
    "percentiles = [0.95]\n",
    "color = \"blue\""
   ]
  },
  {
   "cell_type": "code",
   "execution_count": 5,
   "metadata": {},
   "outputs": [],
   "source": [
    "method = \"euler\"\n",
    "dt = 1e-3\n",
    "adaptive = False\n",
    "rtol = 1e-3\n",
    "atol = 1e-3\n",
    "adjoint = False\n",
    "sdeint_fn = torchsde.sdeint_adjoint if adjoint else torchsde.sdeint\n",
    "kl_anneal_iters = 100\n",
    "dpi = 300\n",
    "batch_size=512\n",
    "train_iters=5000\n",
    "pause_iters=50\n",
    "scale=0.01"
   ]
  },
  {
   "cell_type": "code",
   "execution_count": 6,
   "metadata": {},
   "outputs": [],
   "source": [
    "vis_idx = np.random.permutation(vis_batch_size)\n",
    "# From https://colorbrewer2.org/.\n",
    "if color == \"blue\":\n",
    "    sample_colors = ('#8c96c6', '#8c6bb1', '#810f7c')\n",
    "    fill_color = '#9ebcda'\n",
    "    mean_color = '#4d004b'\n",
    "    num_samples = len(sample_colors)\n",
    "else:\n",
    "    sample_colors = ('#fc4e2a', '#e31a1c', '#bd0026')\n",
    "    fill_color = '#fd8d3c'\n",
    "    mean_color = '#800026'\n",
    "    num_samples = len(sample_colors)\n",
    "\n",
    "eps = torch.randn(vis_batch_size, 1).to(device)  # Fix seed for the random draws used in the plots.\n",
    "bm = torchsde.BrownianInterval(\n",
    "    t0=ts_vis[0],\n",
    "    t1=ts_vis[-1],\n",
    "    size=(vis_batch_size, 1),\n",
    "    device=device,\n",
    "    levy_area_approximation='space-time'\n",
    ")  # We need space-time Levy area to use the SRK solver"
   ]
  },
  {
   "cell_type": "code",
   "execution_count": 7,
   "metadata": {},
   "outputs": [],
   "source": [
    "from multiscale_sde.sde import GPSDE\n",
    "class LinearScheduler(object):\n",
    "    def __init__(self, iters, maxval=1.0):\n",
    "        self._iters = max(1, iters)\n",
    "        self._val = maxval / self._iters\n",
    "        self._maxval = maxval\n",
    "\n",
    "    def step(self):\n",
    "        self._val = min(self._maxval, self._val + self._maxval / self._iters)\n",
    "\n",
    "    @property\n",
    "    def val(self):\n",
    "        return self._val\n",
    "\n",
    "\n",
    "class EMAMetric(object):\n",
    "    def __init__(self, gamma: Optional[float] = .99):\n",
    "        super(EMAMetric, self).__init__()\n",
    "        self._val = 0.\n",
    "        self._gamma = gamma\n",
    "\n",
    "    def step(self, x: Union[torch.Tensor, np.ndarray]):\n",
    "        x = x.detach().cpu().numpy() if torch.is_tensor(x) else x\n",
    "        self._val = self._gamma * self._val + (1 - self._gamma) * x\n",
    "        return self._val\n",
    "\n",
    "    @property\n",
    "    def val(self):\n",
    "        return self._val"
   ]
  },
  {
   "cell_type": "code",
   "execution_count": 8,
   "metadata": {},
   "outputs": [],
   "source": [
    "# Model.\n",
    "model = GPSDE(sdeint_fn, device=device, lengthscale=lengthscale).to(device)\n",
    "optimizer = optim.Adam(model.parameters(), lr=1e-2)\n",
    "scheduler = optim.lr_scheduler.ExponentialLR(optimizer, gamma=.999)\n",
    "kl_scheduler = LinearScheduler(iters=kl_anneal_iters)\n",
    "logpy_metric = EMAMetric()\n",
    "kl_metric = EMAMetric()\n",
    "loss_metric = EMAMetric()"
   ]
  },
  {
   "cell_type": "code",
   "execution_count": 63,
   "metadata": {},
   "outputs": [
    {
     "data": {
      "text/plain": [
       "GaussianLikelihood(\n",
       "  (noise_covar): HomoskedasticNoise(\n",
       "    (raw_noise_constraint): GreaterThan(1.000E-04)\n",
       "  )\n",
       ")"
      ]
     },
     "execution_count": 63,
     "metadata": {},
     "output_type": "execute_result"
    }
   ],
   "source": [
    "## GP ELBO\n",
    "import gpytorch\n",
    "class ExactGPModel(gpytorch.models.ExactGP):\n",
    "    def __init__(self, train_x, train_y, likelihood):\n",
    "        super(ExactGPModel, self).__init__(train_x, train_y, likelihood)\n",
    "        self.mean_module = gpytorch.means.ZeroMean()\n",
    "        self.covar_module = gpytorch.kernels.MaternKernel(nu=0.5)\n",
    "\n",
    "    def forward(self, x):\n",
    "        mean_x = self.mean_module(x)\n",
    "        covar_x = self.covar_module(x)\n",
    "        return gpytorch.distributions.MultivariateNormal(mean_x, covar_x)\n",
    "# initialize likelihood and model\n",
    "likelihood = gpytorch.likelihoods.GaussianLikelihood()\n",
    "# get exact GP posterior\n",
    "model = ExactGPModel(torch.Tensor(ts_), torch.Tensor(ys_)[:,0], likelihood)\n",
    "model.likelihood.noise = 0.01**2\n",
    "model.covar_module.lengthscale = lengthscale\n",
    "# Get into evaluation (predictive posterior) mode\n",
    "model.eval()\n",
    "likelihood.eval()\n"
   ]
  },
  {
   "cell_type": "code",
   "execution_count": 64,
   "metadata": {},
   "outputs": [
    {
     "name": "stderr",
     "output_type": "stream",
     "text": [
      "/home/hbz15/vector/torchsde/.env/lib/python3.8/site-packages/gpytorch/models/exact_gp.py:274: GPInputWarning: The input matches the stored training data. Did you forget to call model.train()?\n",
      "  warnings.warn(\n"
     ]
    }
   ],
   "source": [
    "mll = gpytorch.mlls.ExactMarginalLogLikelihood(likelihood, model)\n",
    "output = model(torch.Tensor(ts_))\n",
    "# Calc loss and backprop gradients\n",
    "gp_loss = mll(output, torch.Tensor(ys_[:,0])).item()"
   ]
  },
  {
   "cell_type": "code",
   "execution_count": 65,
   "metadata": {},
   "outputs": [
    {
     "data": {
      "text/plain": [
       "3.340695858001709"
      ]
     },
     "execution_count": 65,
     "metadata": {},
     "output_type": "execute_result"
    }
   ],
   "source": [
    "gp_loss"
   ]
  },
  {
   "cell_type": "code",
   "execution_count": 72,
   "metadata": {},
   "outputs": [],
   "source": [
    "def manual_seed(seed: int):\n",
    "    random.seed(seed)\n",
    "    np.random.seed(seed)\n",
    "    torch.manual_seed(seed)\n",
    "\n",
    "\n",
    "def _stable_division(a, b, epsilon=1e-7):\n",
    "    b = torch.where(b.abs().detach() > epsilon, b, torch.full_like(b, fill_value=epsilon) * b.sign())\n",
    "    return a / b\n",
    "lengthscale = 1 \n",
    "class LatentSDE(torchsde.SDEIto):\n",
    "\n",
    "    def __init__(self, theta=1.0, mu=0.0, sigma=1, lengthscale=0.5, device=\"cpu\"):\n",
    "        super(LatentSDE, self).__init__(noise_type=\"diagonal\")\n",
    "        logvar = math.log(sigma ** 2 / (2. * theta))\n",
    "        # logvar = 1\n",
    "        std = 1\n",
    "\n",
    "        # Prior drift.\n",
    "        self.register_buffer(\"theta\", torch.tensor([[theta]]))\n",
    "        self.register_buffer(\"mu\", torch.tensor([[mu]]))\n",
    "        self.register_buffer(\"sigma\", torch.tensor([[sigma]]))\n",
    "\n",
    "        # p(y0).\n",
    "        self.register_buffer(\"py0_mean\", torch.tensor([[mu]]))\n",
    "        # self.register_buffer(\"py0_logvar\", torch.tensor([[logvar]]))\n",
    "        self.register_buffer(\"py0_std\", torch.tensor([[std]]))\n",
    "\n",
    "        # Approximate posterior drift: Takes in 2 positional encodings and the state.\n",
    "        self.net = nn.Sequential(\n",
    "            nn.Linear(3, 200),\n",
    "            nn.Tanh(),\n",
    "            nn.Linear(200, 200),\n",
    "            nn.Tanh(),\n",
    "            nn.Linear(200, 1)\n",
    "        )\n",
    "        # Initialization trick from Glow.\n",
    "        self.net[-1].weight.data.fill_(0.)\n",
    "        self.net[-1].bias.data.fill_(0.)\n",
    "\n",
    "        # q(y0).\n",
    "        self.qy0_mean = nn.Parameter(torch.tensor([[mu]]), requires_grad=True)\n",
    "        self.qy0_logvar = nn.Parameter(torch.tensor([[logvar]]), requires_grad=True)\n",
    "        self.lengthscale = lengthscale\n",
    "        self.device = device\n",
    "\n",
    "    def f(self, t, y):  # Approximate posterior drift.\n",
    "        if t.dim() == 0:\n",
    "            t = torch.full_like(y, fill_value=t)\n",
    "        # Positional encoding in transformers for time-inhomogeneous posterior.\n",
    "        return self.net(torch.cat((torch.sin(t), torch.cos(t), y), dim=-1))\n",
    "\n",
    "    def g(self, t, y):  # Shared diffusion.\n",
    "        # return self.sigma.repeat(y.size(0), 1)\n",
    "        # drift matrix = sigma^2 * sqrt(2 / l) for Matern12 kernel (diffusion of BM is 2/l)\n",
    "        return torch.ones(y.size(0), 1, device=self.device) * math.sqrt(2 / self.lengthscale)\n",
    "\n",
    "    def h(self, t, y):  # Prior drift.\n",
    "        return -1/self.lengthscale * y\n",
    "\n",
    "    def f_aug(self, t, y):  # Drift for augmented dynamics with logqp term.\n",
    "        y = y[:, 0:1]\n",
    "        f, g, h = self.f(t, y), self.g(t, y), self.h(t, y)\n",
    "        u = _stable_division(f - h, g)\n",
    "        f_logqp = .5 * (u ** 2).sum(dim=1, keepdim=True)\n",
    "        return torch.cat([f, f_logqp], dim=1)\n",
    "\n",
    "    def g_aug(self, t, y):  # Diffusion for augmented dynamics with logqp term.\n",
    "        y = y[:, 0:1]\n",
    "        g = self.g(t, y)\n",
    "        g_logqp = torch.zeros_like(y)\n",
    "        return torch.cat([g, g_logqp], dim=1)\n",
    "\n",
    "    def forward(self, ts, batch_size, eps=None):\n",
    "        eps = torch.randn(batch_size, 1).to(self.qy0_std) if eps is None else eps\n",
    "        y0 = self.qy0_mean + eps * self.qy0_std\n",
    "        qy0 = distributions.Normal(loc=self.qy0_mean, scale=self.qy0_std)\n",
    "        py0 = distributions.Normal(loc=self.py0_mean, scale=self.py0_std)\n",
    "        logqp0 = distributions.kl_divergence(qy0, py0).sum(dim=1)  # KL(t=0).\n",
    "\n",
    "        aug_y0 = torch.cat([y0, torch.zeros(batch_size, 1).to(y0)], dim=1)\n",
    "        aug_ys = sdeint_fn(\n",
    "            sde=self,\n",
    "            y0=aug_y0,\n",
    "            ts=ts,\n",
    "            method=\"euler\",\n",
    "            dt=1e-2,\n",
    "            adaptive=False,\n",
    "            rtol=1e-3,\n",
    "            atol=1e-3,\n",
    "            names={'drift': 'f_aug', 'diffusion': 'g_aug'}\n",
    "        )\n",
    "        ys, logqp_path = aug_ys[:, :, 0:1], aug_ys[-1, :, 1]\n",
    "        logqp = (logqp0 + logqp_path).mean(dim=0)  # KL(t=0) + KL(path).\n",
    "        return ys, logqp\n",
    "\n",
    "    ### skipping operations\n",
    "    def forward_skip(self, batch_size, ts_segments, eps=None):\n",
    "\n",
    "        # suppose we learn the stationary distribution\n",
    "        eps = torch.randn(batch_size, 1).to(self.qy0_std) if eps is None else eps\n",
    "        y0 = self.qy0_mean + eps * self.qy0_std\n",
    "        qy0 = distributions.Normal(loc=self.qy0_mean, scale=self.qy0_std)\n",
    "        py0 = distributions.Normal(loc=self.py0_mean, scale=self.py0_std)\n",
    "        logqp0 = distributions.kl_divergence(qy0, py0).sum(dim=1)  # KL(t=0).\n",
    "        aug_y0 = torch.cat([y0, torch.zeros(batch_size, 1).to(y0)], dim=1)\n",
    "        \n",
    "        for i, ts_segment in enumerate(ts_segments):\n",
    "            # ts_segment = ts[(ts >= t_starts[i]) & (ts <= t_ends[i])]     \n",
    "            # ts_segment[0] -= mixing_time\n",
    "            # ts_segment[-1] += mixing_time\n",
    "            # ts_segment = ts_segments[i]\n",
    "            aug_ys = sdeint_fn(\n",
    "                sde=self,\n",
    "                y0=aug_y0,\n",
    "                ts=ts_segment,\n",
    "                method=\"euler\",\n",
    "                dt=1e-2,\n",
    "                adaptive=False,\n",
    "                rtol=1e-3,\n",
    "                atol=1e-3,\n",
    "                names={'drift': 'f_aug', 'diffusion': 'g_aug'}\n",
    "            )\n",
    "            ys_segment, logqp_path = aug_ys[:, :, 0:1], aug_ys[-1, :, :1]\n",
    "            if i == 0:\n",
    "                ys = ys_segment[1:-1]\n",
    "            else:\n",
    "                ys = torch.concat([ys, ys_segment[1:-1]], axis=0)\n",
    "            eps = torch.randn(batch_size, 1).to(self.qy0_std)\n",
    "            y0 = self.qy0_mean + eps * self.qy0_std\n",
    "            aug_y0 = torch.cat([y0, logqp_path], dim=1)\n",
    "        logqp_path = aug_ys[-1, :, 1]\n",
    "        logqp = (logqp0 + logqp_path).mean(dim=0)  # KL(t=0) + KL(path).\n",
    "        return ys, logqp\n",
    "\n",
    "    def sample_p(self, ts, batch_size, eps=None, bm=None):\n",
    "        eps = torch.randn(batch_size, 1).to(self.py0_mean) if eps is None else eps\n",
    "        y0 = self.py0_mean + eps * self.py0_std\n",
    "        return sdeint_fn(self, y0, ts, bm=bm, method='srk', dt=args.dt, names={'drift': 'h'})\n",
    "\n",
    "    def sample_q(self, ts, batch_size, eps=None, bm=None):\n",
    "        eps = torch.randn(batch_size, 1).to(self.qy0_mean) if eps is None else eps\n",
    "        y0 = self.qy0_mean + eps * self.qy0_std\n",
    "        return sdeint_fn(self, y0, ts, bm=bm, method='srk', dt=args.dt)\n",
    "\n",
    "    # @property\n",
    "    # def py0_std(self):\n",
    "    #     return torch.exp(.5 * self.py0_logvar)\n",
    "\n",
    "    @property\n",
    "    def qy0_std(self):\n",
    "        return torch.exp(.5 * self.qy0_logvar)"
   ]
  },
  {
   "cell_type": "code",
   "execution_count": 73,
   "metadata": {},
   "outputs": [],
   "source": [
    "model = LatentSDE(device=device, lengthscale=lengthscale).to(device)\n"
   ]
  },
  {
   "cell_type": "code",
   "execution_count": 74,
   "metadata": {},
   "outputs": [],
   "source": [
    "sdeint_fn = torchsde.sdeint\n"
   ]
  },
  {
   "cell_type": "code",
   "execution_count": 75,
   "metadata": {},
   "outputs": [],
   "source": [
    "import pandas as pd"
   ]
  },
  {
   "cell_type": "code",
   "execution_count": 76,
   "metadata": {},
   "outputs": [],
   "source": [
    "ckpt_epochs = np.linspace(0, 4950, 100).astype(int)\n",
    "df_elbo = pd.DataFrame(columns=[\"epoch\", \"latentsde\", \"latentsde_skip\"])\n",
    "df_elbo[\"epoch\"] = ckpt_epochs\n",
    "df_elbo[\"epoch\"] = df_elbo[\"epoch\"].astype(int)"
   ]
  },
  {
   "cell_type": "code",
   "execution_count": 77,
   "metadata": {},
   "outputs": [
    {
     "data": {
      "text/plain": [
       "LatentSDE(\n",
       "  (net): Sequential(\n",
       "    (0): Linear(in_features=3, out_features=200, bias=True)\n",
       "    (1): Tanh()\n",
       "    (2): Linear(in_features=200, out_features=200, bias=True)\n",
       "    (3): Tanh()\n",
       "    (4): Linear(in_features=200, out_features=1, bias=True)\n",
       "  )\n",
       ")"
      ]
     },
     "execution_count": 77,
     "metadata": {},
     "output_type": "execute_result"
    }
   ],
   "source": [
    "model.eval()"
   ]
  },
  {
   "cell_type": "code",
   "execution_count": 102,
   "metadata": {},
   "outputs": [
    {
     "data": {
      "text/plain": [
       "tensor([0.2695, 0.3180, 0.3195, 0.3411, 0.3861, 1.6534, 1.6750, 1.7584, 1.8567,\n",
       "        1.8855])"
      ]
     },
     "execution_count": 102,
     "metadata": {},
     "output_type": "execute_result"
    }
   ],
   "source": [
    "ts"
   ]
  },
  {
   "cell_type": "code",
   "execution_count": 78,
   "metadata": {},
   "outputs": [],
   "source": [
    "## setup latentsde skip parameters\n",
    "# mixing time\n",
    "mixing_time = 0.3\n",
    "# when to begin solving\n",
    "t_starts = torch.Tensor([0.0000, 0.4661])\n",
    "# when to stop solving\n",
    "t_ends = torch.Tensor([1.5302, 2])\n",
    "\n",
    "## suppose we start from y0 (data driven)\n",
    "ts_segments = []\n",
    "ts_queres = []\n",
    "for i in range(t_starts.size()[0]):\n",
    "    ts_segment = ts[(ts >= t_starts[i]) & (ts <= t_ends[i])]     \n",
    "    ts_segment = torch.cat([ts_segment[:1] -mixing_time, ts_segment])\n",
    "    ts_segment = torch.cat([ts_segment, ts_segment[-1:] + mixing_time])\n",
    "    ts_segments.append(ts_segment)\n",
    "\n",
    "## suppose we start from y0 (start from stationary distribution - what's the stationary distribution\n",
    "## of matern12?)"
   ]
  },
  {
   "cell_type": "code",
   "execution_count": 79,
   "metadata": {},
   "outputs": [],
   "source": [
    "for i, epoch in enumerate(ckpt_epochs):\n",
    "    likelihood_constructor = {\"laplace\": distributions.Laplace, \"normal\": distributions.Normal}[\"normal\"]\n",
    "    # calculate ELBO for latentSDE without skipping\n",
    "    model.load_state_dict(torch.load(f\"gp_matern12/ckpts/global_step_{epoch}.ckpt\")[\"model\"])\n",
    "    zs, kl = model.forward(batch_size=batch_size, ts=ts_ext)\n",
    "    zs = zs.squeeze()\n",
    "    zs = zs[1:-1]\n",
    "    likelihood = likelihood_constructor(loc=zs, scale=0.01)\n",
    "    logpy = likelihood.log_prob(ys).sum(dim=0).mean(dim=0)\n",
    "    loss = -logpy + kl * kl_scheduler.val\n",
    "    df_elbo.loc[i, \"latentsde\"] = -loss.item()\n",
    "    \n",
    "    # calculate ELBO for latentSDE with skipping\n",
    "    model.load_state_dict(torch.load(f\"gp_matern12_skip/ckpts/global_step_{epoch}.ckpt\")[\"model\"])\n",
    "    zs, kl = model.forward_skip(batch_size=batch_size, ts_segments=ts_segments)\n",
    "    zs = zs.squeeze()\n",
    "    likelihood = likelihood_constructor(loc=zs, scale=0.01)\n",
    "    logpy = likelihood.log_prob(ys).sum(dim=0).mean(dim=0)\n",
    "    loss = -logpy + kl * kl_scheduler.val\n",
    "    df_elbo.loc[i, \"latentsde_skip\"] = -loss.item()"
   ]
  },
  {
   "cell_type": "code",
   "execution_count": 82,
   "metadata": {},
   "outputs": [
    {
     "data": {
      "text/plain": [
       "3.340695858001709"
      ]
     },
     "execution_count": 82,
     "metadata": {},
     "output_type": "execute_result"
    }
   ],
   "source": [
    "gp_loss"
   ]
  },
  {
   "cell_type": "code",
   "execution_count": 101,
   "metadata": {},
   "outputs": [
    {
     "data": {
      "text/plain": [
       "<matplotlib.legend.Legend at 0x7ff929508b80>"
      ]
     },
     "execution_count": 101,
     "metadata": {},
     "output_type": "execute_result"
    },
    {
     "data": {
      "image/png": "[encoded data removed]",
      "text/plain": [
       "<Figure size 640x480 with 1 Axes>"
      ]
     },
     "metadata": {},
     "output_type": "display_data"
    }
   ],
   "source": [
    "plt.plot(ckpt_epochs, df_elbo[\"latentsde\"], color=\"C0\", label=\"ELBO LatentSDE\")\n",
    "plt.plot(ckpt_epochs, df_elbo[\"latentsde_skip\"], color=\"C1\", label=\"ELBO LatentSDE w/ skiip\")\n",
    "plt.hlines(y = gp_loss, xmin = 0, xmax = 4950, color='black', linestyle = 'dashed', linewidth = 3, \n",
    "label=\"Exact GP MLL\")\n",
    "plt.ylim(-2000, 100)\n",
    "plt.xlim(200, 5000)\n",
    "plt.xlabel(\"Epoch\")\n",
    "plt.legend(loc=\"lower right\")\n"
   ]
  },
  {
   "cell_type": "code",
   "execution_count": null,
   "metadata": {},
   "outputs": [],
   "source": []
  }
 ],
 "metadata": {
  "kernelspec": {
   "display_name": "Python 3.8.10 ('.env': venv)",
   "language": "python",
   "name": "python3"
  },
  "language_info": {
   "codemirror_mode": {
    "name": "ipython",
    "version": 3
   },
   "file_extension": ".py",
   "mimetype": "text/x-python",
   "name": "python",
   "nbconvert_exporter": "python",
   "pygments_lexer": "ipython3",
   "version": "3.8.10"
  },
  "orig_nbformat": 4,
  "vscode": {
   "interpreter": {
    "hash": "d79b81f1bf487de2fc458141c8814068fb2454dcdefdc5e138a20b5481800e9f"
   }
  }
 },
 "nbformat": 4,
 "nbformat_minor": 2
}
